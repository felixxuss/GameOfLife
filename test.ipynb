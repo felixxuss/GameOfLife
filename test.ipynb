{
 "cells": [
  {
   "cell_type": "code",
   "execution_count": 2,
   "metadata": {},
   "outputs": [],
   "source": [
    "import numpy as np\n",
    "from scipy.signal import convolve2d\n",
    "\n",
    "\n",
    "filter = np.array([\n",
    "    [1,1,1],\n",
    "    [1,0,1],\n",
    "    [1,1,1]\n",
    "])\n",
    "\n",
    "a = np.array([[1, 0, 1, 0, 1, 0, 1, 0],\n",
    "              [0, 1, 0, 1, 0, 1, 0, 1],\n",
    "              [1, 0, 1, 0, 1, 0, 1, 0],\n",
    "              [0, 1, 0, 1, 0, 1, 0, 1],\n",
    "              [1, 0, 1, 0, 1, 0, 1, 0],\n",
    "              [0, 1, 0, 1, 0, 1, 0, 1]])"
   ]
  },
  {
   "cell_type": "code",
   "execution_count": 6,
   "metadata": {},
   "outputs": [],
   "source": [
    "conv = convolve2d(a, filter, mode='same', boundary='fill', fillvalue=0)"
   ]
  },
  {
   "cell_type": "code",
   "execution_count": 8,
   "metadata": {},
   "outputs": [
    {
     "name": "stdout",
     "output_type": "stream",
     "text": [
      "[[1 3 2 3 2 3 2 2]\n",
      " [3 4 4 4 4 4 4 2]\n",
      " [2 4 4 4 4 4 4 3]\n",
      " [3 4 4 4 4 4 4 2]\n",
      " [2 4 4 4 4 4 4 3]\n",
      " [2 2 3 2 3 2 3 1]]\n"
     ]
    }
   ],
   "source": [
    "print(conv)"
   ]
  }
 ],
 "metadata": {
  "kernelspec": {
   "display_name": "Python 3",
   "language": "python",
   "name": "python3"
  },
  "language_info": {
   "codemirror_mode": {
    "name": "ipython",
    "version": 3
   },
   "file_extension": ".py",
   "mimetype": "text/x-python",
   "name": "python",
   "nbconvert_exporter": "python",
   "pygments_lexer": "ipython3",
   "version": "3.10.7"
  },
  "orig_nbformat": 4
 },
 "nbformat": 4,
 "nbformat_minor": 2
}
